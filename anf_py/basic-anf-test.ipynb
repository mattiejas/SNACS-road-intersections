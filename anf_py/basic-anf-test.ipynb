{
 "cells": [
  {
   "cell_type": "code",
   "execution_count": 2,
   "metadata": {},
   "outputs": [],
   "source": [
    "import networkx as nx\n",
    "import numpy as np"
   ]
  },
  {
   "cell_type": "code",
   "execution_count": 3,
   "metadata": {},
   "outputs": [
    {
     "data": {
      "text/plain": [
       "[[1060, 1181],\n",
       " [1060, 1723],\n",
       " [1060, 1542],\n",
       " [1181, 388],\n",
       " [1181, 1473],\n",
       " [234, 1893],\n",
       " [234, 716],\n",
       " [234, 442],\n",
       " [1893, 890],\n",
       " [1893, 1947]]"
      ]
     },
     "execution_count": 3,
     "metadata": {},
     "output_type": "execute_result"
    }
   ],
   "source": [
    "with open('../../edgelist.csv', 'r') as f:\n",
    "    lines = f.readlines()\n",
    "    lines = [[int(x) for x in line.strip().split(',')] for line in lines]\n",
    "    \n",
    "lines[:10]"
   ]
  },
  {
   "cell_type": "code",
   "execution_count": 4,
   "metadata": {},
   "outputs": [],
   "source": [
    "G = nx.from_edgelist(lines)\n",
    "edges = list(G.edges())\n",
    "\n",
    "max_distance = 5"
   ]
  },
  {
   "cell_type": "code",
   "execution_count": 5,
   "metadata": {},
   "outputs": [
    {
     "data": {
      "text/plain": [
       "{0: 1.0, 1: 4.0, 2: 9.993, 3: 21.939, 4: 45.628}"
      ]
     },
     "execution_count": 5,
     "metadata": {},
     "output_type": "execute_result"
    }
   ],
   "source": [
    "def neighborhood(G, node, n):\n",
    "    path_lengths = nx.single_source_dijkstra_path_length(G, node, n)\n",
    "    return path_lengths\n",
    "\n",
    "neighs = {node: neighborhood(G, node, 5) for node in G.nodes()}\n",
    "\n",
    "nx_exact_neighbourhood = {h: np.mean([len([n for n, l in neighs[node].items() if l <= h]) for node in G.nodes()]) for h in range(max_distance)}\n",
    "\n",
    "nx_exact_neighbourhood"
   ]
  },
  {
   "cell_type": "code",
   "execution_count": 7,
   "metadata": {},
   "outputs": [],
   "source": [
    "import snap\n",
    "\n",
    "G1 = snap.TUNGraph.New()\n",
    "\n",
    "for n in G.nodes():\n",
    "  G1.AddNode(n)\n",
    "\n",
    "for s, t in G.edges():\n",
    "  G1.AddEdge(s, t)"
   ]
  },
  {
   "cell_type": "code",
   "execution_count": 9,
   "metadata": {},
   "outputs": [
    {
     "name": "stdout",
     "output_type": "stream",
     "text": [
      "2000.0\n",
      "9010.222273200909\n",
      "20992.855324756\n",
      "44769.942652559126\n",
      "91785.49321237898\n"
     ]
    },
    {
     "data": {
      "text/plain": [
       "{0: 1.0,\n",
       " 1: 4.505111136600454,\n",
       " 2: 10.496427662378,\n",
       " 3: 22.38497132627956,\n",
       " 4: 45.89274660618949}"
      ]
     },
     "execution_count": 9,
     "metadata": {},
     "output_type": "execute_result"
    }
   ],
   "source": [
    "\n",
    "\n",
    "DistNbrsV = snap.TIntFltKdV()\n",
    "\n",
    "snap.GetAnf(G1, DistNbrsV, max_distance, False, 128)\n",
    "\n",
    "for i in DistNbrsV:\n",
    "  print(i.Dat())\n",
    "\n",
    "snap_neighbourhoods = {h: item.Dat() / G.number_of_nodes() for h, item in zip(range(max_distance), DistNbrsV)}\n",
    "\n",
    "snap_neighbourhoods"
   ]
  },
  {
   "cell_type": "code",
   "execution_count": 16,
   "metadata": {},
   "outputs": [
    {
     "name": "stdout",
     "output_type": "stream",
     "text": [
      "2000.0\n",
      "9009.979719291994\n",
      "21042.5873511558\n",
      "45060.033340034104\n",
      "92259.83127394867\n"
     ]
    }
   ],
   "source": [
    "import snap\n",
    "\n",
    "G = snap.LoadEdgeList(snap.TNGraph, \"../../edgelist.csv\", 0, 1, ',')\n",
    "DistNbrsV = G.GetAnfGraph(5, False, 64)\n",
    "for item in DistNbrsV:\n",
    "    print(item.Dat())"
   ]
  }
 ],
 "metadata": {
  "interpreter": {
   "hash": "6ccda7167d592f5b540f01838124c649463d95a411dcc6c9c2276a3a146440e8"
  },
  "kernelspec": {
   "display_name": "Python 3.6.12 64-bit ('api-env': conda)",
   "language": "python",
   "name": "python3"
  },
  "language_info": {
   "codemirror_mode": {
    "name": "ipython",
    "version": 3
   },
   "file_extension": ".py",
   "mimetype": "text/x-python",
   "name": "python",
   "nbconvert_exporter": "python",
   "pygments_lexer": "ipython3",
   "version": "3.9.9"
  },
  "orig_nbformat": 4
 },
 "nbformat": 4,
 "nbformat_minor": 2
}
