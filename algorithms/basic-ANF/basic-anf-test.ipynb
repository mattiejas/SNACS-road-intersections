{
 "cells": [
  {
   "cell_type": "code",
   "execution_count": 1,
   "metadata": {},
   "outputs": [],
   "source": [
    "import networkx as nx\n",
    "\n",
    "import numpy as np\n",
    "from basicanf import BasicANF\n"
   ]
  },
  {
   "cell_type": "code",
   "execution_count": 2,
   "metadata": {},
   "outputs": [
    {
     "name": "stdout",
     "output_type": "stream",
     "text": [
      "(965, 1209)\n"
     ]
    }
   ],
   "source": [
    "import csv\n",
    "\n",
    "G = nx.random_regular_graph(3, 2000)\n",
    "edges = list(G.edges())\n",
    "edges.extend([(y, x) for x, y in G.edges()])\n",
    "\n",
    "print(edges[0])\n",
    "\n",
    "with open('edgelist.csv','w', newline='') as out:\n",
    "    csv_out = csv.writer(out)\n",
    "    csv_out.writerows(edges)\n",
    "\n",
    "max_distance = 5\n"
   ]
  },
  {
   "cell_type": "code",
   "execution_count": 3,
   "metadata": {},
   "outputs": [
    {
     "name": "stderr",
     "output_type": "stream",
     "text": [
      "100%|██████████| 100000/100000 [00:03<00:00, 29833.81it/s]"
     ]
    },
    {
     "name": "stdout",
     "output_type": "stream",
     "text": [
      "0 0.49936\n",
      "1 0.25025\n",
      "2 0.12584\n",
      "3 0.06171\n",
      "4 0.03131\n",
      "5 0.01535\n",
      "6 0.00762\n",
      "7 0.0042\n",
      "8 0.00222\n",
      "9 0.00096\n",
      "10 0.00055\n",
      "11 0.00033\n",
      "12 0.00015\n",
      "13 7e-05\n",
      "14 4e-05\n",
      "15 3e-05\n",
      "16 0.0\n",
      "17 0.0\n",
      "18 0.0\n",
      "19 1e-05\n"
     ]
    },
    {
     "name": "stderr",
     "output_type": "stream",
     "text": [
      "\n"
     ]
    }
   ],
   "source": [
    "basicAnf = BasicANF(edges, 9, k=128)\n",
    "\n",
    "basicAnf._test_generate_bitmask()"
   ]
  },
  {
   "cell_type": "code",
   "execution_count": 4,
   "metadata": {},
   "outputs": [
    {
     "data": {
      "text/plain": [
       "{1: 14.235710111672988,\n",
       " 2: 86.04080061301725,\n",
       " 3: 419.95726306892243,\n",
       " 4: 1242.9554948427055,\n",
       " 0: 1}"
      ]
     },
     "execution_count": 4,
     "metadata": {},
     "output_type": "execute_result"
    }
   ],
   "source": [
    "d, IN, M = basicAnf.compute(max_distance=max_distance)\n",
    "d[0] = 1\n",
    "d\n"
   ]
  },
  {
   "cell_type": "code",
   "execution_count": 10,
   "metadata": {},
   "outputs": [
    {
     "data": {
      "text/plain": [
       "array([ True,  True,  True, ..., False, False, False])"
      ]
     },
     "execution_count": 10,
     "metadata": {},
     "output_type": "execute_result"
    }
   ],
   "source": [
    "M[2][1]"
   ]
  },
  {
   "cell_type": "code",
   "execution_count": 11,
   "metadata": {},
   "outputs": [
    {
     "data": {
      "text/plain": [
       "{0: 1.0, 1: 4.0, 2: 9.982, 3: 21.898, 4: 45.503}"
      ]
     },
     "execution_count": 11,
     "metadata": {},
     "output_type": "execute_result"
    }
   ],
   "source": [
    "def neighborhood(G, node, n):\n",
    "    path_lengths = nx.single_source_dijkstra_path_length(G, node, n)\n",
    "    return path_lengths\n",
    "\n",
    "neighs = {node: neighborhood(G, node, 5) for node in G.nodes()}\n",
    "\n",
    "nx_exact_neighbourhood = {h: np.mean([len([n for n, l in neighs[node].items() if l <= h]) for node in G.nodes()]) for h in range(max_distance)}\n",
    "\n",
    "nx_exact_neighbourhood"
   ]
  },
  {
   "cell_type": "code",
   "execution_count": 13,
   "metadata": {},
   "outputs": [
    {
     "name": "stdout",
     "output_type": "stream",
     "text": [
      "2000.0\n",
      "9010.075839197994\n",
      "21056.56432167854\n",
      "44904.25400606593\n",
      "92557.98630043303\n"
     ]
    },
    {
     "data": {
      "text/plain": [
       "{0: 1.0,\n",
       " 1: 4.505037919598998,\n",
       " 2: 10.52828216083927,\n",
       " 3: 22.452127003032967,\n",
       " 4: 46.278993150216515}"
      ]
     },
     "execution_count": 13,
     "metadata": {},
     "output_type": "execute_result"
    }
   ],
   "source": [
    "import snap\n",
    "\n",
    "G1 = snap.TUNGraph.New()\n",
    "\n",
    "for n in G.nodes():\n",
    "  G1.AddNode(n)\n",
    "\n",
    "for s, t in G.edges():\n",
    "  G1.AddEdge(s, t)\n",
    "\n",
    "DistNbrsV = snap.TIntFltKdV()\n",
    "\n",
    "snap.GetAnf(G1, DistNbrsV, max_distance, False, 128)\n",
    "\n",
    "for i in DistNbrsV:\n",
    "  print(i.Dat())\n",
    "\n",
    "snap_neighbourhoods = {h: item.Dat() / G.number_of_nodes() for h, item in zip(range(max_distance), DistNbrsV)}\n",
    "\n",
    "snap_neighbourhoods"
   ]
  },
  {
   "cell_type": "code",
   "execution_count": null,
   "metadata": {},
   "outputs": [],
   "source": [
    "import seaborn as sns\n",
    "import matplotlib.pyplot as plt\n",
    "\n",
    "sns.set_theme()\n",
    "\n",
    "plt.title(\"Error in neighborhood approximation\")\n",
    "plt.ylabel(\"Error relative to exact\")\n",
    "plt.xlabel(\"Distance\")\n",
    "plt.tight_layout()\n",
    "plt.xticks(range(max_distance))\n",
    "\n",
    "snap_results = np.array(list(nx_exact_neighbourhood.values())) - np.array(list(snap_neighbourhoods.values()))\n",
    "ANF_results = np.array([d[h] for h in range(max_distance)]) - np.array(list(snap_neighbourhoods.values()))\n",
    "\n",
    "sns.lineplot(x=range(max_distance), y=snap_results, label='Snap')\n",
    "sns.lineplot(x=range(max_distance), y=ANF_results, label='ANF')"
   ]
  }
 ],
 "metadata": {
  "interpreter": {
   "hash": "6ccda7167d592f5b540f01838124c649463d95a411dcc6c9c2276a3a146440e8"
  },
  "kernelspec": {
   "display_name": "Python 3.6.12 64-bit ('api-env': conda)",
   "language": "python",
   "name": "python3"
  },
  "language_info": {
   "codemirror_mode": {
    "name": "ipython",
    "version": 3
   },
   "file_extension": ".py",
   "mimetype": "text/x-python",
   "name": "python",
   "nbconvert_exporter": "python",
   "pygments_lexer": "ipython3",
   "version": "3.9.9"
  },
  "orig_nbformat": 4
 },
 "nbformat": 4,
 "nbformat_minor": 2
}
