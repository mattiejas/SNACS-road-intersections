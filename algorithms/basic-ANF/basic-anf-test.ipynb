{
 "cells": [
  {
   "cell_type": "code",
   "execution_count": 1,
   "metadata": {},
   "outputs": [],
   "source": [
    "from basicanf import BasicANF\n",
    "import networkx as nx\n",
    "import numpy as np"
   ]
  },
  {
   "cell_type": "code",
   "execution_count": 12,
   "metadata": {},
   "outputs": [
    {
     "data": {
      "text/plain": [
       "[[1060, 1181],\n",
       " [1060, 1723],\n",
       " [1060, 1542],\n",
       " [1181, 388],\n",
       " [1181, 1473],\n",
       " [234, 1893],\n",
       " [234, 716],\n",
       " [234, 442],\n",
       " [1893, 890],\n",
       " [1893, 1947]]"
      ]
     },
     "execution_count": 12,
     "metadata": {},
     "output_type": "execute_result"
    }
   ],
   "source": [
    "with open('../../edgelist.csv', 'r') as f:\n",
    "    lines = f.readlines()\n",
    "    lines = [[int(x) for x in line.strip().split(',')] for line in lines]\n",
    "    \n",
    "lines[:10]"
   ]
  },
  {
   "cell_type": "code",
   "execution_count": 13,
   "metadata": {},
   "outputs": [],
   "source": [
    "G = nx.from_edgelist(lines)\n",
    "edges = list(G.edges())\n",
    "# edges.extend([(y, x) for x, y in G.edges()])"
   ]
  },
  {
   "cell_type": "code",
   "execution_count": 14,
   "metadata": {},
   "outputs": [
    {
     "data": {
      "text/plain": [
       "{1: 2.61385159584548,\n",
       " 2: 3.2568502812862232,\n",
       " 3: 3.7627785741333946,\n",
       " 4: 4.175674538986385}"
      ]
     },
     "execution_count": 14,
     "metadata": {},
     "output_type": "execute_result"
    }
   ],
   "source": [
    "basicAnf = BasicANF(edges, 7, k=128)\n",
    "d, IN, M = basicAnf.compute(max_distance=5)\n",
    "d"
   ]
  },
  {
   "cell_type": "code",
   "execution_count": 29,
   "metadata": {},
   "outputs": [
    {
     "data": {
      "text/plain": [
       "'1111111000000011111010000000111111100000001111101000000011111110000100111110100000001111100000000011110100000000111110010000001111010000000011111101000000111110100000001111000000000011111100001000111101110000001111111010000011111010000000111110000000001111001000000011111000000000111111100010001111111000001011111100000000111111100000001111100000000011111110000000111111000000001111100100000011111100000000111101000000101111110000000011111000000000111111010000001111111000000011111100000000111110000000001111111000000011111100000000111111000000001111101000000011110110000000111110000000001111110000000011111110000000111111000000001111110000000011110000000000111111000000001111111100000011111001000000111111000000001111011000000011111000000000111101000000001111111000100011111010000000111110000000001111110010000011111100000000111111010000001111110001000011111100000000111100100000001111100000000011111110000000111110000000001111000010000011111101000000111110000000001111110000100011111001000000111111000000101111100100000011110100000000111111000000001111110000000011110100000000111110000010001111110010000011110000000100111111011100001111010100000011111110000000111111010000001111000000000011111110001000111101000000101111110000000011111100000000111110010000001111110110000011111010000000111011100000001111100110000011111111000000111111100000001111001110000011110001000000111111000000001111111000000011111100000000111111001000001111111100000011111100100000111100001001001111110100000011111000000000111110100000001111110100000011111101000000111111000000001111101000000011111000000000111110010000001111111000000011111111000000111111000000001111010000000011111101000000111111000000011111110000100011111000000000111111010000001111111010000011111100000000111110100000001111110000000011110110000000'"
      ]
     },
     "execution_count": 29,
     "metadata": {},
     "output_type": "execute_result"
    }
   ],
   "source": [
    "M[2][1]"
   ]
  },
  {
   "cell_type": "code",
   "execution_count": 4,
   "metadata": {},
   "outputs": [
    {
     "name": "stdout",
     "output_type": "stream",
     "text": [
      "0 1.0\n",
      "1 4.0\n",
      "2 9.993\n",
      "3 21.92\n",
      "4 45.605\n"
     ]
    }
   ],
   "source": [
    "\n",
    "def neighborhood(G, node, n):\n",
    "    path_lengths = nx.single_source_dijkstra_path_length(G, node, n)\n",
    "    return path_lengths\n",
    "\n",
    "neighs = {node: neighborhood(G, node, 5) for node in G.nodes()}\n",
    "\n",
    "for i in range(5):\n",
    "  print(i, np.mean([len([n for n, l in neighs[node].items() if l <= i]) for node in G.nodes()]))"
   ]
  },
  {
   "cell_type": "code",
   "execution_count": 16,
   "metadata": {},
   "outputs": [
    {
     "name": "stdout",
     "output_type": "stream",
     "text": [
      "2000.0\n",
      "9009.979719291994\n",
      "21042.5873511558\n",
      "45060.033340034104\n",
      "92259.83127394867\n"
     ]
    }
   ],
   "source": [
    "import snap\n",
    "\n",
    "G = snap.LoadEdgeList(snap.TNGraph, \"../../edgelist.csv\", 0, 1, ',')\n",
    "DistNbrsV = G.GetAnfGraph(5, False, 64)\n",
    "for item in DistNbrsV:\n",
    "    print(item.Dat())"
   ]
  }
 ],
 "metadata": {
  "interpreter": {
   "hash": "6ccda7167d592f5b540f01838124c649463d95a411dcc6c9c2276a3a146440e8"
  },
  "kernelspec": {
   "display_name": "Python 3.6.12 64-bit ('api-env': conda)",
   "language": "python",
   "name": "python3"
  },
  "language_info": {
   "codemirror_mode": {
    "name": "ipython",
    "version": 3
   },
   "file_extension": ".py",
   "mimetype": "text/x-python",
   "name": "python",
   "nbconvert_exporter": "python",
   "pygments_lexer": "ipython3",
   "version": "3.8.7"
  },
  "orig_nbformat": 4
 },
 "nbformat": 4,
 "nbformat_minor": 2
}
